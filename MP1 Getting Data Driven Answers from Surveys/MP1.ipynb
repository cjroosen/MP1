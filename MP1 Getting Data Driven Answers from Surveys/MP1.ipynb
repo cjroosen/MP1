{
 "cells": [
  {
   "cell_type": "code",
   "execution_count": 339,
   "metadata": {},
   "outputs": [],
   "source": [
    "import pandas as pd"
   ]
  },
  {
   "cell_type": "code",
   "execution_count": 340,
   "metadata": {},
   "outputs": [
    {
     "data": {
      "text/html": [
       "<div>\n",
       "<style scoped>\n",
       "    .dataframe tbody tr th:only-of-type {\n",
       "        vertical-align: middle;\n",
       "    }\n",
       "\n",
       "    .dataframe tbody tr th {\n",
       "        vertical-align: top;\n",
       "    }\n",
       "\n",
       "    .dataframe thead th {\n",
       "        text-align: right;\n",
       "    }\n",
       "</style>\n",
       "<table border=\"1\" class=\"dataframe\">\n",
       "  <thead>\n",
       "    <tr style=\"text-align: right;\">\n",
       "      <th></th>\n",
       "      <th>Timestamp</th>\n",
       "      <th>Username</th>\n",
       "      <th>What is your class year?</th>\n",
       "      <th>What is your major?</th>\n",
       "      <th>What is your sex?</th>\n",
       "      <th>On average, how much time a day do you spend on your phone?</th>\n",
       "      <th>On average, how many hours a day do you spend studying?</th>\n",
       "      <th>When do you use your phone most?</th>\n",
       "      <th>When do study the most?</th>\n",
       "      <th>Where do you use your phone the most?</th>\n",
       "      <th>Where do you study the most?</th>\n",
       "      <th>Why do you use your phone for the amount of time you do?</th>\n",
       "      <th>Why do you study for the amount of time you do?</th>\n",
       "      <th>Why do you use your phone the most during the time you do?</th>\n",
       "      <th>Why do you study the most during the time you do?</th>\n",
       "      <th>Why do you like to use your phone the most in your favorite area?</th>\n",
       "      <th>Why do you like to study the most in your favorite area?</th>\n",
       "    </tr>\n",
       "  </thead>\n",
       "  <tbody>\n",
       "    <tr>\n",
       "      <th>0</th>\n",
       "      <td>2024/01/24 1:34:18 PM EST</td>\n",
       "      <td>jessica.herring123@gmail.com</td>\n",
       "      <td>2024</td>\n",
       "      <td>Computer Science</td>\n",
       "      <td>Female</td>\n",
       "      <td>4-5 hours</td>\n",
       "      <td>3-4 hours</td>\n",
       "      <td>In the evening in bed</td>\n",
       "      <td>In the afternoon after class</td>\n",
       "      <td>In my room</td>\n",
       "      <td>At the library</td>\n",
       "      <td>Social media</td>\n",
       "      <td>To succeed in my classes</td>\n",
       "      <td>It is most convient to check everyting at night</td>\n",
       "      <td>It is the only time I can</td>\n",
       "      <td>I do not want to do anything else while I am here</td>\n",
       "      <td>I feel less distracted while I am here</td>\n",
       "    </tr>\n",
       "    <tr>\n",
       "      <th>1</th>\n",
       "      <td>2024/01/24 1:36:10 PM EST</td>\n",
       "      <td>gabbyc2303@gmail.com</td>\n",
       "      <td>2025</td>\n",
       "      <td>biology</td>\n",
       "      <td>Female</td>\n",
       "      <td>&gt;5 hours</td>\n",
       "      <td>1-2 hours</td>\n",
       "      <td>In the evening in bed</td>\n",
       "      <td>In the afternoon after class</td>\n",
       "      <td>In my room</td>\n",
       "      <td>In my room</td>\n",
       "      <td>Social media</td>\n",
       "      <td>To succeed in my classes</td>\n",
       "      <td>phone time before bed to relax after a day of ...</td>\n",
       "      <td>I feel the most engaged during this time</td>\n",
       "      <td>comfortable in bed</td>\n",
       "      <td>I feel less distracted while I am here</td>\n",
       "    </tr>\n",
       "    <tr>\n",
       "      <th>2</th>\n",
       "      <td>2024/01/24 1:38:25 PM EST</td>\n",
       "      <td>nathan.brieske@vikings.berry.edu</td>\n",
       "      <td>2025</td>\n",
       "      <td>Sport Leadership and Strategy</td>\n",
       "      <td>Male</td>\n",
       "      <td>2-3 hours</td>\n",
       "      <td>1-2 hours</td>\n",
       "      <td>In the afternoon after class</td>\n",
       "      <td>In the afternoon after class</td>\n",
       "      <td>In my room</td>\n",
       "      <td>In my room</td>\n",
       "      <td>Talking to friends/family</td>\n",
       "      <td>I do not enjoy studying</td>\n",
       "      <td>It is most convient to check everything in the...</td>\n",
       "      <td>I feel the most engaged during this time</td>\n",
       "      <td>I get more things accomplished in this area</td>\n",
       "      <td>I get a lot more accomplished while I study here</td>\n",
       "    </tr>\n",
       "    <tr>\n",
       "      <th>3</th>\n",
       "      <td>2024/01/24 1:56:51 PM EST</td>\n",
       "      <td>chris.retana@vikings.berry.edu</td>\n",
       "      <td>2025</td>\n",
       "      <td>accounting</td>\n",
       "      <td>Male</td>\n",
       "      <td>3-4 hours</td>\n",
       "      <td>3-4 hours</td>\n",
       "      <td>In the afternoon after class</td>\n",
       "      <td>In the morning/afternoon in class</td>\n",
       "      <td>At a place where I can also eat</td>\n",
       "      <td>In class</td>\n",
       "      <td>To distract myself</td>\n",
       "      <td>To succeed in my classes</td>\n",
       "      <td>It is a good distraction in class</td>\n",
       "      <td>I feel the most engaged during this time</td>\n",
       "      <td>There is nothing else to do</td>\n",
       "      <td>There are people around me doing similar things</td>\n",
       "    </tr>\n",
       "    <tr>\n",
       "      <th>4</th>\n",
       "      <td>2024/01/24 2:06:10 PM EST</td>\n",
       "      <td>TJ.Tracy@vikings.berry.edu</td>\n",
       "      <td>2024</td>\n",
       "      <td>Data Analytics</td>\n",
       "      <td>Male</td>\n",
       "      <td>3-4 hours</td>\n",
       "      <td>2-3 hours</td>\n",
       "      <td>In the afternoon after class</td>\n",
       "      <td>In the afternoon after class</td>\n",
       "      <td>Living Room</td>\n",
       "      <td>McAllister Hall</td>\n",
       "      <td>I don't want to be on my phone very much</td>\n",
       "      <td>To succeed in my classes</td>\n",
       "      <td>I enjoy using my phone while I eat</td>\n",
       "      <td>When my friends study</td>\n",
       "      <td>There is nothing else to do</td>\n",
       "      <td>There are people around me doing similar things</td>\n",
       "    </tr>\n",
       "    <tr>\n",
       "      <th>5</th>\n",
       "      <td>2024/01/24 2:09:10 PM EST</td>\n",
       "      <td>lucas.kinsey@vikings.berry.edu</td>\n",
       "      <td>2025</td>\n",
       "      <td>Education</td>\n",
       "      <td>Male</td>\n",
       "      <td>1-2 hours</td>\n",
       "      <td>2-3 hours</td>\n",
       "      <td>In the evening in bed</td>\n",
       "      <td>In the afternoon after class</td>\n",
       "      <td>In my room</td>\n",
       "      <td>At the library</td>\n",
       "      <td>Talking to friends/family</td>\n",
       "      <td>To succeed in my classes</td>\n",
       "      <td>It is most convient to check everyting at night</td>\n",
       "      <td>I feel the most engaged during this time</td>\n",
       "      <td>I do not want to do anything else while I am here</td>\n",
       "      <td>I get a lot more accomplished while I study here</td>\n",
       "    </tr>\n",
       "    <tr>\n",
       "      <th>6</th>\n",
       "      <td>2024/01/24 3:29:54 PM EST</td>\n",
       "      <td>brandon.head843@gmail.com</td>\n",
       "      <td>2025</td>\n",
       "      <td>Computer Science</td>\n",
       "      <td>Male</td>\n",
       "      <td>3-4 hours</td>\n",
       "      <td>&gt;5 hours</td>\n",
       "      <td>In the evening in bed</td>\n",
       "      <td>In the evening before bed</td>\n",
       "      <td>In my room</td>\n",
       "      <td>In my room</td>\n",
       "      <td>Social media</td>\n",
       "      <td>To succeed in my classes</td>\n",
       "      <td>It is most convient to check everyting at night</td>\n",
       "      <td>It is the only time I can</td>\n",
       "      <td>There is nothing else to do</td>\n",
       "      <td>There are people around me doing similar things</td>\n",
       "    </tr>\n",
       "    <tr>\n",
       "      <th>7</th>\n",
       "      <td>2024/01/24 4:01:27 PM EST</td>\n",
       "      <td>Austin.McMahan@vikings.berry.edu</td>\n",
       "      <td>2025</td>\n",
       "      <td>Accounting</td>\n",
       "      <td>Male</td>\n",
       "      <td>3-4 hours</td>\n",
       "      <td>2-3 hours</td>\n",
       "      <td>In the morning right after waking up</td>\n",
       "      <td>In the evening before bed</td>\n",
       "      <td>In my room</td>\n",
       "      <td>In my room</td>\n",
       "      <td>Social media</td>\n",
       "      <td>To succeed in my classes</td>\n",
       "      <td>It is most convient to check everything in the...</td>\n",
       "      <td>It is the only time I can</td>\n",
       "      <td>There is nothing else to do</td>\n",
       "      <td>I get a lot more accomplished while I study here</td>\n",
       "    </tr>\n",
       "    <tr>\n",
       "      <th>8</th>\n",
       "      <td>2024/01/24 4:18:34 PM EST</td>\n",
       "      <td>luke.ommen@gmail.com</td>\n",
       "      <td>2024</td>\n",
       "      <td>Sports Admin</td>\n",
       "      <td>Male</td>\n",
       "      <td>2-3 hours</td>\n",
       "      <td>1-2 hours</td>\n",
       "      <td>In the evening in bed</td>\n",
       "      <td>In the afternoon after class</td>\n",
       "      <td>In my room</td>\n",
       "      <td>At the library</td>\n",
       "      <td>Social media</td>\n",
       "      <td>It is required</td>\n",
       "      <td>It is most convient to check everyting at night</td>\n",
       "      <td>I feel the most engaged during this time</td>\n",
       "      <td>There is nothing else to do</td>\n",
       "      <td>I feel less distracted while I am here</td>\n",
       "    </tr>\n",
       "    <tr>\n",
       "      <th>9</th>\n",
       "      <td>2024/01/24 7:39:33 PM EST</td>\n",
       "      <td>premp7462@gmail.com</td>\n",
       "      <td>2025</td>\n",
       "      <td>Computer Science and Creative Technologies</td>\n",
       "      <td>Male</td>\n",
       "      <td>3-4 hours</td>\n",
       "      <td>3-4 hours</td>\n",
       "      <td>In the evening in bed</td>\n",
       "      <td>In the afternoon after class</td>\n",
       "      <td>In my room</td>\n",
       "      <td>In Hackberry</td>\n",
       "      <td>Social media</td>\n",
       "      <td>To succeed in my classes</td>\n",
       "      <td>It is most convient to check everyting at night</td>\n",
       "      <td>I feel the most engaged during this time</td>\n",
       "      <td>I do not want to do anything else while I am here</td>\n",
       "      <td>There are people around me doing similar things</td>\n",
       "    </tr>\n",
       "    <tr>\n",
       "      <th>10</th>\n",
       "      <td>2024/01/24 10:57:30 PM EST</td>\n",
       "      <td>vpappalardo@vikings.berry.edu</td>\n",
       "      <td>2025</td>\n",
       "      <td>Finance</td>\n",
       "      <td>Male</td>\n",
       "      <td>3-4 hours</td>\n",
       "      <td>1-2 hours</td>\n",
       "      <td>In the evening before bed</td>\n",
       "      <td>In the afternoon after class</td>\n",
       "      <td>In my room</td>\n",
       "      <td>At the library</td>\n",
       "      <td>Social media</td>\n",
       "      <td>I feel compelled to</td>\n",
       "      <td>It is most convient to check everyting at night</td>\n",
       "      <td>It is the only time I can</td>\n",
       "      <td>I get more things accomplished in this area</td>\n",
       "      <td>There are people around me doing similar things</td>\n",
       "    </tr>\n",
       "    <tr>\n",
       "      <th>11</th>\n",
       "      <td>2024/01/25 9:33:06 AM EST</td>\n",
       "      <td>ethan.perlakowski@gmail.com</td>\n",
       "      <td>2025</td>\n",
       "      <td>Data Analytics</td>\n",
       "      <td>Male</td>\n",
       "      <td>4-5 hours</td>\n",
       "      <td>1-2 hours</td>\n",
       "      <td>In the afternoon after class</td>\n",
       "      <td>In the evening before bed</td>\n",
       "      <td>At a place where I can also eat</td>\n",
       "      <td>In my room</td>\n",
       "      <td>Social media</td>\n",
       "      <td>To succeed in my classes</td>\n",
       "      <td>I enjoy using my phone while I eat</td>\n",
       "      <td>I feel the most engaged during this time</td>\n",
       "      <td>I do not want to do anything else while I am here</td>\n",
       "      <td>I feel less distracted while I am here</td>\n",
       "    </tr>\n",
       "    <tr>\n",
       "      <th>12</th>\n",
       "      <td>2024/01/25 9:33:13 AM EST</td>\n",
       "      <td>BAILEY.HENDERSON@VIKINGS.BERRY.EDU</td>\n",
       "      <td>2025</td>\n",
       "      <td>Creative Technologies</td>\n",
       "      <td>Female</td>\n",
       "      <td>4-5 hours</td>\n",
       "      <td>2-3 hours</td>\n",
       "      <td>In the afternoon after class</td>\n",
       "      <td>During lunch</td>\n",
       "      <td>In my room</td>\n",
       "      <td>In my room</td>\n",
       "      <td>Talking to friends/family</td>\n",
       "      <td>To succeed in my classes</td>\n",
       "      <td>It is most convient to check everyting at night</td>\n",
       "      <td>I feel the most engaged during this time</td>\n",
       "      <td>I get more things accomplished in this area</td>\n",
       "      <td>I feel less distracted while I am here</td>\n",
       "    </tr>\n",
       "    <tr>\n",
       "      <th>13</th>\n",
       "      <td>2024/01/25 10:46:13 AM EST</td>\n",
       "      <td>dylan.bloch@vikings.berry.edu</td>\n",
       "      <td>2025</td>\n",
       "      <td>Computer Science and Creative Technologies</td>\n",
       "      <td>Male</td>\n",
       "      <td>&gt;5 hours</td>\n",
       "      <td>&lt;1 hour</td>\n",
       "      <td>In the afternoon after class</td>\n",
       "      <td>In the afternoon after class</td>\n",
       "      <td>In my room</td>\n",
       "      <td>In my room</td>\n",
       "      <td>Games</td>\n",
       "      <td>I do not enjoy studying</td>\n",
       "      <td>It is most convient to check everyting at night</td>\n",
       "      <td>It is the only time I can</td>\n",
       "      <td>I do not want to do anything else while I am here</td>\n",
       "      <td>I feel less distracted while I am here</td>\n",
       "    </tr>\n",
       "    <tr>\n",
       "      <th>14</th>\n",
       "      <td>2024/01/29 4:41:15 AM EST</td>\n",
       "      <td>tchikenspa@gmail.com</td>\n",
       "      <td>2024</td>\n",
       "      <td>Creative Technologies</td>\n",
       "      <td>Prefer not to say</td>\n",
       "      <td>4-5 hours</td>\n",
       "      <td>&lt;1 hour</td>\n",
       "      <td>In the evening before bed</td>\n",
       "      <td>In the evening in bed</td>\n",
       "      <td>In my room</td>\n",
       "      <td>In my room</td>\n",
       "      <td>Talking to friends/family</td>\n",
       "      <td>Nothing else to do</td>\n",
       "      <td>It is most convient to check everyting at night</td>\n",
       "      <td>I have nothing else to do during this time</td>\n",
       "      <td>There is nothing else to do</td>\n",
       "      <td>It is the only place I can study</td>\n",
       "    </tr>\n",
       "  </tbody>\n",
       "</table>\n",
       "</div>"
      ],
      "text/plain": [
       "                     Timestamp                            Username  \\\n",
       "0    2024/01/24 1:34:18 PM EST        jessica.herring123@gmail.com   \n",
       "1    2024/01/24 1:36:10 PM EST                gabbyc2303@gmail.com   \n",
       "2    2024/01/24 1:38:25 PM EST    nathan.brieske@vikings.berry.edu   \n",
       "3    2024/01/24 1:56:51 PM EST      chris.retana@vikings.berry.edu   \n",
       "4    2024/01/24 2:06:10 PM EST          TJ.Tracy@vikings.berry.edu   \n",
       "5    2024/01/24 2:09:10 PM EST      lucas.kinsey@vikings.berry.edu   \n",
       "6    2024/01/24 3:29:54 PM EST           brandon.head843@gmail.com   \n",
       "7    2024/01/24 4:01:27 PM EST    Austin.McMahan@vikings.berry.edu   \n",
       "8    2024/01/24 4:18:34 PM EST                luke.ommen@gmail.com   \n",
       "9    2024/01/24 7:39:33 PM EST                 premp7462@gmail.com   \n",
       "10  2024/01/24 10:57:30 PM EST       vpappalardo@vikings.berry.edu   \n",
       "11   2024/01/25 9:33:06 AM EST         ethan.perlakowski@gmail.com   \n",
       "12   2024/01/25 9:33:13 AM EST  BAILEY.HENDERSON@VIKINGS.BERRY.EDU   \n",
       "13  2024/01/25 10:46:13 AM EST       dylan.bloch@vikings.berry.edu   \n",
       "14   2024/01/29 4:41:15 AM EST                tchikenspa@gmail.com   \n",
       "\n",
       "    What is your class year?                         What is your major?  \\\n",
       "0                       2024                            Computer Science   \n",
       "1                       2025                                     biology   \n",
       "2                       2025              Sport Leadership and Strategy    \n",
       "3                       2025                                 accounting    \n",
       "4                       2024                              Data Analytics   \n",
       "5                       2025                                  Education    \n",
       "6                       2025                            Computer Science   \n",
       "7                       2025                                  Accounting   \n",
       "8                       2024                                Sports Admin   \n",
       "9                       2025  Computer Science and Creative Technologies   \n",
       "10                      2025                                    Finance    \n",
       "11                      2025                              Data Analytics   \n",
       "12                      2025                       Creative Technologies   \n",
       "13                      2025  Computer Science and Creative Technologies   \n",
       "14                      2024                       Creative Technologies   \n",
       "\n",
       "    What is your sex?  \\\n",
       "0              Female   \n",
       "1              Female   \n",
       "2                Male   \n",
       "3                Male   \n",
       "4                Male   \n",
       "5                Male   \n",
       "6                Male   \n",
       "7                Male   \n",
       "8                Male   \n",
       "9                Male   \n",
       "10               Male   \n",
       "11               Male   \n",
       "12             Female   \n",
       "13               Male   \n",
       "14  Prefer not to say   \n",
       "\n",
       "   On average, how much time a day do you spend on your phone?  \\\n",
       "0                                           4-5 hours            \n",
       "1                                            >5 hours            \n",
       "2                                           2-3 hours            \n",
       "3                                           3-4 hours            \n",
       "4                                           3-4 hours            \n",
       "5                                           1-2 hours            \n",
       "6                                           3-4 hours            \n",
       "7                                           3-4 hours            \n",
       "8                                           2-3 hours            \n",
       "9                                           3-4 hours            \n",
       "10                                          3-4 hours            \n",
       "11                                          4-5 hours            \n",
       "12                                          4-5 hours            \n",
       "13                                           >5 hours            \n",
       "14                                          4-5 hours            \n",
       "\n",
       "   On average, how many hours a day do you spend studying?   \\\n",
       "0                                           3-4 hours         \n",
       "1                                           1-2 hours         \n",
       "2                                           1-2 hours         \n",
       "3                                           3-4 hours         \n",
       "4                                           2-3 hours         \n",
       "5                                           2-3 hours         \n",
       "6                                            >5 hours         \n",
       "7                                           2-3 hours         \n",
       "8                                           1-2 hours         \n",
       "9                                           3-4 hours         \n",
       "10                                          1-2 hours         \n",
       "11                                          1-2 hours         \n",
       "12                                          2-3 hours         \n",
       "13                                            <1 hour         \n",
       "14                                            <1 hour         \n",
       "\n",
       "        When do you use your phone most?           When do study the most?   \\\n",
       "0                  In the evening in bed       In the afternoon after class   \n",
       "1                  In the evening in bed       In the afternoon after class   \n",
       "2           In the afternoon after class       In the afternoon after class   \n",
       "3           In the afternoon after class  In the morning/afternoon in class   \n",
       "4           In the afternoon after class       In the afternoon after class   \n",
       "5                  In the evening in bed       In the afternoon after class   \n",
       "6                  In the evening in bed          In the evening before bed   \n",
       "7   In the morning right after waking up          In the evening before bed   \n",
       "8                  In the evening in bed       In the afternoon after class   \n",
       "9                  In the evening in bed       In the afternoon after class   \n",
       "10             In the evening before bed       In the afternoon after class   \n",
       "11          In the afternoon after class          In the evening before bed   \n",
       "12          In the afternoon after class                       During lunch   \n",
       "13          In the afternoon after class       In the afternoon after class   \n",
       "14             In the evening before bed              In the evening in bed   \n",
       "\n",
       "   Where do you use your phone the most? Where do you study the most?  \\\n",
       "0                             In my room               At the library   \n",
       "1                             In my room                   In my room   \n",
       "2                             In my room                   In my room   \n",
       "3        At a place where I can also eat                     In class   \n",
       "4                            Living Room              McAllister Hall   \n",
       "5                             In my room               At the library   \n",
       "6                             In my room                   In my room   \n",
       "7                             In my room                   In my room   \n",
       "8                             In my room               At the library   \n",
       "9                             In my room                 In Hackberry   \n",
       "10                            In my room               At the library   \n",
       "11       At a place where I can also eat                   In my room   \n",
       "12                            In my room                   In my room   \n",
       "13                            In my room                   In my room   \n",
       "14                            In my room                   In my room   \n",
       "\n",
       "   Why do you use your phone for the amount of time you do?  \\\n",
       "0                                        Social media         \n",
       "1                                        Social media         \n",
       "2                           Talking to friends/family         \n",
       "3                                  To distract myself         \n",
       "4            I don't want to be on my phone very much         \n",
       "5                           Talking to friends/family         \n",
       "6                                        Social media         \n",
       "7                                        Social media         \n",
       "8                                        Social media         \n",
       "9                                        Social media         \n",
       "10                                       Social media         \n",
       "11                                       Social media         \n",
       "12                          Talking to friends/family         \n",
       "13                                              Games         \n",
       "14                          Talking to friends/family         \n",
       "\n",
       "   Why do you study for the amount of time you do?  \\\n",
       "0                         To succeed in my classes   \n",
       "1                         To succeed in my classes   \n",
       "2                          I do not enjoy studying   \n",
       "3                         To succeed in my classes   \n",
       "4                         To succeed in my classes   \n",
       "5                         To succeed in my classes   \n",
       "6                         To succeed in my classes   \n",
       "7                         To succeed in my classes   \n",
       "8                                   It is required   \n",
       "9                         To succeed in my classes   \n",
       "10                             I feel compelled to   \n",
       "11                        To succeed in my classes   \n",
       "12                        To succeed in my classes   \n",
       "13                         I do not enjoy studying   \n",
       "14                              Nothing else to do   \n",
       "\n",
       "   Why do you use your phone the most during the time you do?  \\\n",
       "0     It is most convient to check everyting at night           \n",
       "1   phone time before bed to relax after a day of ...           \n",
       "2   It is most convient to check everything in the...           \n",
       "3                   It is a good distraction in class           \n",
       "4                  I enjoy using my phone while I eat           \n",
       "5     It is most convient to check everyting at night           \n",
       "6     It is most convient to check everyting at night           \n",
       "7   It is most convient to check everything in the...           \n",
       "8     It is most convient to check everyting at night           \n",
       "9     It is most convient to check everyting at night           \n",
       "10    It is most convient to check everyting at night           \n",
       "11                 I enjoy using my phone while I eat           \n",
       "12    It is most convient to check everyting at night           \n",
       "13    It is most convient to check everyting at night           \n",
       "14    It is most convient to check everyting at night           \n",
       "\n",
       "   Why do you study the most during the time you do?   \\\n",
       "0                           It is the only time I can   \n",
       "1            I feel the most engaged during this time   \n",
       "2            I feel the most engaged during this time   \n",
       "3            I feel the most engaged during this time   \n",
       "4                               When my friends study   \n",
       "5            I feel the most engaged during this time   \n",
       "6                           It is the only time I can   \n",
       "7                           It is the only time I can   \n",
       "8            I feel the most engaged during this time   \n",
       "9            I feel the most engaged during this time   \n",
       "10                          It is the only time I can   \n",
       "11           I feel the most engaged during this time   \n",
       "12           I feel the most engaged during this time   \n",
       "13                          It is the only time I can   \n",
       "14         I have nothing else to do during this time   \n",
       "\n",
       "   Why do you like to use your phone the most in your favorite area?  \\\n",
       "0   I do not want to do anything else while I am here                  \n",
       "1                                  comfortable in bed                  \n",
       "2         I get more things accomplished in this area                  \n",
       "3                         There is nothing else to do                  \n",
       "4                         There is nothing else to do                  \n",
       "5   I do not want to do anything else while I am here                  \n",
       "6                         There is nothing else to do                  \n",
       "7                         There is nothing else to do                  \n",
       "8                         There is nothing else to do                  \n",
       "9   I do not want to do anything else while I am here                  \n",
       "10        I get more things accomplished in this area                  \n",
       "11  I do not want to do anything else while I am here                  \n",
       "12        I get more things accomplished in this area                  \n",
       "13  I do not want to do anything else while I am here                  \n",
       "14                        There is nothing else to do                  \n",
       "\n",
       "   Why do you like to study the most in your favorite area?  \n",
       "0              I feel less distracted while I am here        \n",
       "1              I feel less distracted while I am here        \n",
       "2    I get a lot more accomplished while I study here        \n",
       "3     There are people around me doing similar things        \n",
       "4     There are people around me doing similar things        \n",
       "5    I get a lot more accomplished while I study here        \n",
       "6     There are people around me doing similar things        \n",
       "7    I get a lot more accomplished while I study here        \n",
       "8              I feel less distracted while I am here        \n",
       "9     There are people around me doing similar things        \n",
       "10    There are people around me doing similar things        \n",
       "11             I feel less distracted while I am here        \n",
       "12             I feel less distracted while I am here        \n",
       "13             I feel less distracted while I am here        \n",
       "14                   It is the only place I can study        "
      ]
     },
     "execution_count": 340,
     "metadata": {},
     "output_type": "execute_result"
    }
   ],
   "source": [
    "rawDataDF = pd.read_csv(\"MP1.csv\")\n",
    "\n",
    "rawDataDF"
   ]
  },
  {
   "cell_type": "markdown",
   "metadata": {},
   "source": [
    "Who: Finding percentages for each \"Who\" question:"
   ]
  },
  {
   "cell_type": "code",
   "execution_count": 341,
   "metadata": {},
   "outputs": [
    {
     "data": {
      "text/plain": [
       "0.26666666666666666"
      ]
     },
     "execution_count": 341,
     "metadata": {},
     "output_type": "execute_result"
    }
   ],
   "source": [
    "# Percentage of 2024 Class Year\n",
    "\n",
    "lenRawDataDF = len(rawDataDF)\n",
    "\n",
    "seniorDataDF = (rawDataDF[\"What is your class year?\"] == 2024).sum()\n",
    "\n",
    "seniorDataDF/lenRawDataDF"
   ]
  },
  {
   "cell_type": "code",
   "execution_count": 342,
   "metadata": {},
   "outputs": [
    {
     "data": {
      "text/plain": [
       "0.7333333333333333"
      ]
     },
     "execution_count": 342,
     "metadata": {},
     "output_type": "execute_result"
    }
   ],
   "source": [
    "# Percentage of 2025 Class Year \n",
    "\n",
    "juniorDataDF = (rawDataDF[\"What is your class year?\"] == 2025).sum()\n",
    "\n",
    "juniorDataDF/lenRawDataDF"
   ]
  },
  {
   "cell_type": "code",
   "execution_count": 343,
   "metadata": {},
   "outputs": [
    {
     "data": {
      "text/plain": [
       "0.0"
      ]
     },
     "execution_count": 343,
     "metadata": {},
     "output_type": "execute_result"
    }
   ],
   "source": [
    "# Percentage of 2026 Class Year \n",
    "\n",
    "sophomoreDataDF = (rawDataDF[\"What is your class year?\"] == 2026).sum()\n",
    "\n",
    "sophomoreDataDF/lenRawDataDF"
   ]
  },
  {
   "cell_type": "code",
   "execution_count": 344,
   "metadata": {},
   "outputs": [
    {
     "data": {
      "text/plain": [
       "0.0"
      ]
     },
     "execution_count": 344,
     "metadata": {},
     "output_type": "execute_result"
    }
   ],
   "source": [
    "# Percentage of 2027 Class Year \n",
    "\n",
    "freshmanDataDF = (rawDataDF[\"What is your class year?\"] == 2027).sum()\n",
    "\n",
    "freshmanDataDF/lenRawDataDF"
   ]
  },
  {
   "cell_type": "code",
   "execution_count": 345,
   "metadata": {},
   "outputs": [
    {
     "data": {
      "text/plain": [
       "0.06666666666666667"
      ]
     },
     "execution_count": 345,
     "metadata": {},
     "output_type": "execute_result"
    }
   ],
   "source": [
    "# Percentage of Accounting Majors\n",
    "\n",
    "accountingDataDF = (rawDataDF[\"What is your major?\"] == \"Accounting\").sum()\n",
    "\n",
    "accountingDataDF/lenRawDataDF"
   ]
  },
  {
   "cell_type": "code",
   "execution_count": 346,
   "metadata": {},
   "outputs": [
    {
     "data": {
      "text/plain": [
       "0.26666666666666666"
      ]
     },
     "execution_count": 346,
     "metadata": {},
     "output_type": "execute_result"
    }
   ],
   "source": [
    "# Percentage of Computer Science Majors\n",
    "\n",
    "csDataDF = ((rawDataDF[\"What is your major?\"] == \"Computer Science\") | (rawDataDF[\"What is your major?\"] == \"Computer Science and Creative Technologies\")).sum()\n",
    "\n",
    "csDataDF/lenRawDataDF"
   ]
  },
  {
   "cell_type": "code",
   "execution_count": 347,
   "metadata": {},
   "outputs": [
    {
     "data": {
      "text/plain": [
       "0.26666666666666666"
      ]
     },
     "execution_count": 347,
     "metadata": {},
     "output_type": "execute_result"
    }
   ],
   "source": [
    "# Percentage of Creative Technologies Majors\n",
    "\n",
    "crtDataDF = ((rawDataDF[\"What is your major?\"] == \"Creative Technologies\") | (rawDataDF[\"What is your major?\"] == \"Computer Science and Creative Technologies\")).sum()\n",
    "\n",
    "crtDataDF/lenRawDataDF"
   ]
  },
  {
   "cell_type": "code",
   "execution_count": 348,
   "metadata": {},
   "outputs": [
    {
     "data": {
      "text/plain": [
       "0.13333333333333333"
      ]
     },
     "execution_count": 348,
     "metadata": {},
     "output_type": "execute_result"
    }
   ],
   "source": [
    "# Percentage of Data Analytics Majors\n",
    "\n",
    "daDataDF = (rawDataDF[\"What is your major?\"] == \"Data Analytics\").sum()\n",
    "\n",
    "daDataDF/lenRawDataDF"
   ]
  },
  {
   "cell_type": "code",
   "execution_count": 426,
   "metadata": {},
   "outputs": [
    {
     "data": {
      "text/plain": [
       "0.06666666666666667"
      ]
     },
     "execution_count": 426,
     "metadata": {},
     "output_type": "execute_result"
    }
   ],
   "source": [
    "# Percentage of Education Majors\n",
    "\n",
    "eduDataDF = (rawDataDF[\"What is your major?\"] == \"Education \").sum()\n",
    "\n",
    "eduDataDF/lenRawDataDF"
   ]
  },
  {
   "cell_type": "code",
   "execution_count": 427,
   "metadata": {},
   "outputs": [
    {
     "data": {
      "text/plain": [
       "0.06666666666666667"
      ]
     },
     "execution_count": 427,
     "metadata": {},
     "output_type": "execute_result"
    }
   ],
   "source": [
    "# Percentage of Finance Majors\n",
    "\n",
    "finDataDF = (rawDataDF[\"What is your major?\"] == \"Finance \").sum()\n",
    "\n",
    "finDataDF/lenRawDataDF"
   ]
  },
  {
   "cell_type": "code",
   "execution_count": 429,
   "metadata": {},
   "outputs": [
    {
     "data": {
      "text/plain": [
       "0.06666666666666667"
      ]
     },
     "execution_count": 429,
     "metadata": {},
     "output_type": "execute_result"
    }
   ],
   "source": [
    "# Percentage of Sport Leadership and Strategy Majors\n",
    "\n",
    "sportLeadDataDF = (rawDataDF[\"What is your major?\"] == \"Sport Leadership and Strategy \").sum()\n",
    "\n",
    "sportLeadDataDF/lenRawDataDF"
   ]
  },
  {
   "cell_type": "code",
   "execution_count": 352,
   "metadata": {},
   "outputs": [
    {
     "data": {
      "text/plain": [
       "0.06666666666666667"
      ]
     },
     "execution_count": 352,
     "metadata": {},
     "output_type": "execute_result"
    }
   ],
   "source": [
    "# Percentage of Sports Admin Majors\n",
    "\n",
    "sportAdminDataDF = (rawDataDF[\"What is your major?\"] == \"Sports Admin\").sum()\n",
    "\n",
    "sportAdminDataDF/lenRawDataDF"
   ]
  },
  {
   "cell_type": "code",
   "execution_count": 434,
   "metadata": {},
   "outputs": [
    {
     "data": {
      "text/plain": [
       "0.06666666666666667"
      ]
     },
     "execution_count": 434,
     "metadata": {},
     "output_type": "execute_result"
    }
   ],
   "source": [
    "# Accounting in lower case\n",
    "\n",
    "accDataLowerDF = (rawDataDF[\"What is your major?\"] == \"accounting \").sum()\n",
    "\n",
    "accDataLowerDF/lenRawDataDF"
   ]
  },
  {
   "cell_type": "code",
   "execution_count": 432,
   "metadata": {},
   "outputs": [
    {
     "data": {
      "text/plain": [
       "0.06666666666666667"
      ]
     },
     "execution_count": 432,
     "metadata": {},
     "output_type": "execute_result"
    }
   ],
   "source": [
    "# Percentage of Biology Majors\n",
    "\n",
    "bioDataDF = (rawDataDF[\"What is your major?\"] == \"biology\").sum()\n",
    "\n",
    "bioDataDF/lenRawDataDF"
   ]
  },
  {
   "cell_type": "code",
   "execution_count": 354,
   "metadata": {},
   "outputs": [
    {
     "data": {
      "text/plain": [
       "0.7333333333333333"
      ]
     },
     "execution_count": 354,
     "metadata": {},
     "output_type": "execute_result"
    }
   ],
   "source": [
    "# Percentage of Male Sex\n",
    "\n",
    "maleDataDF = (rawDataDF[\"What is your sex?\"] == \"Male\").sum()\n",
    "\n",
    "maleDataDF/lenRawDataDF"
   ]
  },
  {
   "cell_type": "code",
   "execution_count": 355,
   "metadata": {},
   "outputs": [
    {
     "data": {
      "text/plain": [
       "0.2"
      ]
     },
     "execution_count": 355,
     "metadata": {},
     "output_type": "execute_result"
    }
   ],
   "source": [
    "# Percentage of Female Sex \n",
    "\n",
    "femaleDataDF = (rawDataDF[\"What is your sex?\"] == \"Female\").sum()\n",
    "\n",
    "femaleDataDF/lenRawDataDF"
   ]
  },
  {
   "cell_type": "code",
   "execution_count": 435,
   "metadata": {},
   "outputs": [
    {
     "data": {
      "text/plain": [
       "0.06666666666666667"
      ]
     },
     "execution_count": 435,
     "metadata": {},
     "output_type": "execute_result"
    }
   ],
   "source": [
    "# Percentage of Prefer not to say \n",
    "\n",
    "preferDataDF = (rawDataDF[\"What is your sex?\"] == \"Prefer not to say\").sum()\n",
    "\n",
    "preferDataDF/lenRawDataDF"
   ]
  },
  {
   "cell_type": "markdown",
   "metadata": {},
   "source": [
    "The following below are the percentages for my \"Who\" questions:\n",
    "\n",
    "2024 Class Year: 26.7%\n",
    "\n",
    "2025 Class Year: 73.3%\n",
    "\n",
    "2026 Class Year: 0%\n",
    "\n",
    "2027 Class Year: 0%\n",
    "\n",
    "Accounting Major: 13.4%\n",
    "\n",
    "Computer Science Major: 26.6%\n",
    "\n",
    "Creative Technologies Major: 26.6%\n",
    "\n",
    "Data Analytics Major: 13.3%\n",
    "\n",
    "Education Major: 6.7%\n",
    "\n",
    "Finance Major: 6.7%\n",
    "\n",
    "Sport Leadership Major: 6.7%\n",
    "\n",
    "Sports Admin Major: 6.7%\n",
    "\n",
    "Biology Major: 6.7%\n",
    "\n",
    "\n",
    "Male Sex: 73.3%\n",
    "\n",
    "Female Sex: 20%\n",
    "\n",
    "Prefer not to say: 6.7%"
   ]
  },
  {
   "cell_type": "markdown",
   "metadata": {},
   "source": [
    "What: Finding percentages for each \"What\" question:\n",
    "\n",
    "On average, how much time a day do you spend on your phone:"
   ]
  },
  {
   "cell_type": "code",
   "execution_count": 436,
   "metadata": {},
   "outputs": [
    {
     "data": {
      "text/plain": [
       "0.0"
      ]
     },
     "execution_count": 436,
     "metadata": {},
     "output_type": "execute_result"
    }
   ],
   "source": [
    "# Phone Percentage of <1 hour\n",
    "lessOnePhoneDF = (rawDataDF[\"On average, how much time a day do you spend on your phone?\"] == \"<1 hour\").sum()\n",
    "\n",
    "lessOnePhoneDF/lenRawDataDF"
   ]
  },
  {
   "cell_type": "code",
   "execution_count": 437,
   "metadata": {},
   "outputs": [
    {
     "data": {
      "text/plain": [
       "0.06666666666666667"
      ]
     },
     "execution_count": 437,
     "metadata": {},
     "output_type": "execute_result"
    }
   ],
   "source": [
    "# Phone Percentage of 1-2 hours\n",
    "oneTwoPhoneDF = (rawDataDF[\"On average, how much time a day do you spend on your phone?\"] == \"1-2 hours\").sum()\n",
    "\n",
    "oneTwoPhoneDF/lenRawDataDF"
   ]
  },
  {
   "cell_type": "code",
   "execution_count": 438,
   "metadata": {},
   "outputs": [
    {
     "data": {
      "text/plain": [
       "0.13333333333333333"
      ]
     },
     "execution_count": 438,
     "metadata": {},
     "output_type": "execute_result"
    }
   ],
   "source": [
    "# Phone Percentage of 2-3 hours\n",
    "twoThreePhoneDF = (rawDataDF[\"On average, how much time a day do you spend on your phone?\"] == \"2-3 hours\").sum()\n",
    "\n",
    "twoThreePhoneDF/lenRawDataDF"
   ]
  },
  {
   "cell_type": "code",
   "execution_count": 439,
   "metadata": {},
   "outputs": [
    {
     "data": {
      "text/plain": [
       "0.4"
      ]
     },
     "execution_count": 439,
     "metadata": {},
     "output_type": "execute_result"
    }
   ],
   "source": [
    "# Phone Percentage of 3-4 hours\n",
    "threeFourPhoneDF = (rawDataDF[\"On average, how much time a day do you spend on your phone?\"] == \"3-4 hours\").sum()\n",
    "\n",
    "threeFourPhoneDF/lenRawDataDF"
   ]
  },
  {
   "cell_type": "code",
   "execution_count": 440,
   "metadata": {},
   "outputs": [
    {
     "data": {
      "text/plain": [
       "0.26666666666666666"
      ]
     },
     "execution_count": 440,
     "metadata": {},
     "output_type": "execute_result"
    }
   ],
   "source": [
    "# Phone Percentage of 4-5 hours\n",
    "fourFivePhoneDF = (rawDataDF[\"On average, how much time a day do you spend on your phone?\"] == \"4-5 hours\").sum()\n",
    "\n",
    "fourFivePhoneDF/lenRawDataDF"
   ]
  },
  {
   "cell_type": "code",
   "execution_count": 441,
   "metadata": {},
   "outputs": [
    {
     "data": {
      "text/plain": [
       "0.13333333333333333"
      ]
     },
     "execution_count": 441,
     "metadata": {},
     "output_type": "execute_result"
    }
   ],
   "source": [
    "# Phone Percentage of >5 hours\n",
    "moreFivePhoneDF = (rawDataDF[\"On average, how much time a day do you spend on your phone?\"] == \">5 hours\").sum()\n",
    "\n",
    "moreFivePhoneDF/lenRawDataDF"
   ]
  },
  {
   "cell_type": "markdown",
   "metadata": {},
   "source": [
    "On average, how many hours a day do you spend studying:\n"
   ]
  },
  {
   "cell_type": "code",
   "execution_count": 442,
   "metadata": {},
   "outputs": [
    {
     "data": {
      "text/plain": [
       "0.13333333333333333"
      ]
     },
     "execution_count": 442,
     "metadata": {},
     "output_type": "execute_result"
    }
   ],
   "source": [
    "# Study Percentage of <1 hour\n",
    "lessOneStudyDF = (rawDataDF[\"On average, how many hours a day do you spend studying? \"] == \"<1 hour\").sum()\n",
    "\n",
    "lessOneStudyDF/lenRawDataDF"
   ]
  },
  {
   "cell_type": "code",
   "execution_count": 443,
   "metadata": {},
   "outputs": [
    {
     "data": {
      "text/plain": [
       "0.3333333333333333"
      ]
     },
     "execution_count": 443,
     "metadata": {},
     "output_type": "execute_result"
    }
   ],
   "source": [
    "# Study Percentage of 1-2 hours\n",
    "oneTwoStudyDF = (rawDataDF[\"On average, how many hours a day do you spend studying? \"] == \"1-2 hours\").sum()\n",
    "\n",
    "oneTwoStudyDF/lenRawDataDF"
   ]
  },
  {
   "cell_type": "code",
   "execution_count": 444,
   "metadata": {},
   "outputs": [
    {
     "data": {
      "text/plain": [
       "0.26666666666666666"
      ]
     },
     "execution_count": 444,
     "metadata": {},
     "output_type": "execute_result"
    }
   ],
   "source": [
    "# Study Percentage of 2-3 hours\n",
    "twoThreeStudyDF = (rawDataDF[\"On average, how many hours a day do you spend studying? \"] == \"2-3 hours\").sum()\n",
    "\n",
    "twoThreeStudyDF/lenRawDataDF"
   ]
  },
  {
   "cell_type": "code",
   "execution_count": 445,
   "metadata": {},
   "outputs": [
    {
     "data": {
      "text/plain": [
       "0.2"
      ]
     },
     "execution_count": 445,
     "metadata": {},
     "output_type": "execute_result"
    }
   ],
   "source": [
    "# Study Percentage of 3-4 hours\n",
    "threeFourStudyDF = (rawDataDF[\"On average, how many hours a day do you spend studying? \"] == \"3-4 hours\").sum()\n",
    "\n",
    "threeFourStudyDF/lenRawDataDF"
   ]
  },
  {
   "cell_type": "code",
   "execution_count": 446,
   "metadata": {},
   "outputs": [
    {
     "data": {
      "text/plain": [
       "0.0"
      ]
     },
     "execution_count": 446,
     "metadata": {},
     "output_type": "execute_result"
    }
   ],
   "source": [
    "# Study Percentage of 4-5 hours\n",
    "fourFiveStudyDF = (rawDataDF[\"On average, how many hours a day do you spend studying? \"] == \"4-5 hours\").sum()\n",
    "\n",
    "fourFiveStudyDF/lenRawDataDF"
   ]
  },
  {
   "cell_type": "code",
   "execution_count": 447,
   "metadata": {},
   "outputs": [
    {
     "data": {
      "text/plain": [
       "0.06666666666666667"
      ]
     },
     "execution_count": 447,
     "metadata": {},
     "output_type": "execute_result"
    }
   ],
   "source": [
    "# Study Percentage of >5 hours\n",
    "moreFiveStudyDF = (rawDataDF[\"On average, how many hours a day do you spend studying? \"] == \">5 hours\").sum()\n",
    "\n",
    "moreFiveStudyDF/lenRawDataDF"
   ]
  },
  {
   "cell_type": "markdown",
   "metadata": {},
   "source": [
    "The following below are the percentages for my \"What\" questions:\n",
    "\n",
    "Phone <1 hour: 0%\n",
    "\n",
    "Phone 1-2 hours: 6.7%\n",
    "\n",
    "Phone 2-3 hours: 13.3%\n",
    "\n",
    "Phone 3-4 hours: 40%\n",
    "\n",
    "Phone 4-5 hours: 26.7%\n",
    "\n",
    "Phone >5 hours: 13.3%\n",
    "\n",
    "Study <1 hour: 13.3%\n",
    "\n",
    "Study 1-2 hours: 33.3%\n",
    "\n",
    "Study 2-3 hours: 26.7%\n",
    "\n",
    "Study 3-4 hours: 20%\n",
    "\n",
    "Study 4-5 hours: 0%\n",
    "\n",
    "Study >5 hours: 6.7%"
   ]
  },
  {
   "cell_type": "markdown",
   "metadata": {},
   "source": [
    "When: Finding percentages for each \"When\" questions:"
   ]
  },
  {
   "cell_type": "markdown",
   "metadata": {},
   "source": [
    "When do you use your phone most?"
   ]
  },
  {
   "cell_type": "code",
   "execution_count": 448,
   "metadata": {},
   "outputs": [
    {
     "data": {
      "text/plain": [
       "0.06666666666666667"
      ]
     },
     "execution_count": 448,
     "metadata": {},
     "output_type": "execute_result"
    }
   ],
   "source": [
    "# Percentage of in the morning right after waking up\n",
    "morningExactPhoneDF = (rawDataDF[\"When do you use your phone most?\"] == \"In the morning right after waking up\").sum()\n",
    "\n",
    "morningExactPhoneDF/lenRawDataDF"
   ]
  },
  {
   "cell_type": "code",
   "execution_count": 449,
   "metadata": {},
   "outputs": [
    {
     "data": {
      "text/plain": [
       "0.0"
      ]
     },
     "execution_count": 449,
     "metadata": {},
     "output_type": "execute_result"
    }
   ],
   "source": [
    "# Percentage of in the morning after getting ready\n",
    "morningReadyPhoneDF = (rawDataDF[\"When do you use your phone most?\"] == \"In the morning after getting ready\").sum()\n",
    "\n",
    "morningReadyPhoneDF/lenRawDataDF"
   ]
  },
  {
   "cell_type": "code",
   "execution_count": 450,
   "metadata": {},
   "outputs": [
    {
     "data": {
      "text/plain": [
       "0.0"
      ]
     },
     "execution_count": 450,
     "metadata": {},
     "output_type": "execute_result"
    }
   ],
   "source": [
    "# Percentage of during lunch\n",
    "lunchPhoneDF = (rawDataDF[\"When do you use your phone most?\"] == \"During lunch\").sum()\n",
    "\n",
    "lunchPhoneDF/lenRawDataDF"
   ]
  },
  {
   "cell_type": "code",
   "execution_count": 451,
   "metadata": {},
   "outputs": [
    {
     "data": {
      "text/plain": [
       "0.0"
      ]
     },
     "execution_count": 451,
     "metadata": {},
     "output_type": "execute_result"
    }
   ],
   "source": [
    "# Percentage of in the morning/afternoon in class\n",
    "inClassPhoneDF = (rawDataDF[\"When do you use your phone most?\"] == \"In the morning/afternoon in class\").sum()\n",
    "\n",
    "inClassPhoneDF/lenRawDataDF"
   ]
  },
  {
   "cell_type": "code",
   "execution_count": 452,
   "metadata": {},
   "outputs": [
    {
     "data": {
      "text/plain": [
       "0.4"
      ]
     },
     "execution_count": 452,
     "metadata": {},
     "output_type": "execute_result"
    }
   ],
   "source": [
    "# Percentage of in the afternoon after class\n",
    "afterClassPhoneDF = (rawDataDF[\"When do you use your phone most?\"] == \"In the afternoon after class\").sum()\n",
    "\n",
    "afterClassPhoneDF/lenRawDataDF"
   ]
  },
  {
   "cell_type": "code",
   "execution_count": 453,
   "metadata": {},
   "outputs": [
    {
     "data": {
      "text/plain": [
       "0.13333333333333333"
      ]
     },
     "execution_count": 453,
     "metadata": {},
     "output_type": "execute_result"
    }
   ],
   "source": [
    "# Percentage of in the evening before bed\n",
    "eveningPhoneDF = (rawDataDF[\"When do you use your phone most?\"] == \"In the evening before bed\").sum()\n",
    "\n",
    "eveningPhoneDF/lenRawDataDF"
   ]
  },
  {
   "cell_type": "code",
   "execution_count": 454,
   "metadata": {},
   "outputs": [
    {
     "data": {
      "text/plain": [
       "0.4"
      ]
     },
     "execution_count": 454,
     "metadata": {},
     "output_type": "execute_result"
    }
   ],
   "source": [
    "# Percentage of in the evening in bed \n",
    "bedPhoneDF = (rawDataDF[\"When do you use your phone most?\"] == \"In the evening in bed\").sum()\n",
    "\n",
    "bedPhoneDF/lenRawDataDF"
   ]
  },
  {
   "cell_type": "markdown",
   "metadata": {},
   "source": [
    "When do you study the most?"
   ]
  },
  {
   "cell_type": "code",
   "execution_count": 455,
   "metadata": {},
   "outputs": [
    {
     "data": {
      "text/plain": [
       "0.0"
      ]
     },
     "execution_count": 455,
     "metadata": {},
     "output_type": "execute_result"
    }
   ],
   "source": [
    "# Percentage of in the morning right after waking up \n",
    "morningExactStudyDF = (rawDataDF[\"When do study the most? \"] == \"In the morning right after waking up\").sum()\n",
    "\n",
    "morningExactStudyDF/lenRawDataDF"
   ]
  },
  {
   "cell_type": "code",
   "execution_count": 456,
   "metadata": {},
   "outputs": [
    {
     "data": {
      "text/plain": [
       "0.0"
      ]
     },
     "execution_count": 456,
     "metadata": {},
     "output_type": "execute_result"
    }
   ],
   "source": [
    "# Percentage of in the morning after getting ready\n",
    "morningReadyStudyDF = (rawDataDF[\"When do study the most? \"] == \"In the morning after getting ready\").sum()\n",
    "\n",
    "morningReadyStudyDF/lenRawDataDF"
   ]
  },
  {
   "cell_type": "code",
   "execution_count": 457,
   "metadata": {},
   "outputs": [
    {
     "data": {
      "text/plain": [
       "0.06666666666666667"
      ]
     },
     "execution_count": 457,
     "metadata": {},
     "output_type": "execute_result"
    }
   ],
   "source": [
    "# Percentage of during lunch\n",
    "lunchStudyDF = (rawDataDF[\"When do study the most? \"] == \"During lunch\").sum()\n",
    "\n",
    "lunchStudyDF/lenRawDataDF"
   ]
  },
  {
   "cell_type": "code",
   "execution_count": 458,
   "metadata": {},
   "outputs": [
    {
     "data": {
      "text/plain": [
       "0.06666666666666667"
      ]
     },
     "execution_count": 458,
     "metadata": {},
     "output_type": "execute_result"
    }
   ],
   "source": [
    "# Percentage of in the morning/afternoon in class\n",
    "inClassStudyDF = (rawDataDF[\"When do study the most? \"] == \"In the morning/afternoon in class\").sum()\n",
    "\n",
    "inClassStudyDF/lenRawDataDF"
   ]
  },
  {
   "cell_type": "code",
   "execution_count": 459,
   "metadata": {},
   "outputs": [
    {
     "data": {
      "text/plain": [
       "0.6"
      ]
     },
     "execution_count": 459,
     "metadata": {},
     "output_type": "execute_result"
    }
   ],
   "source": [
    "# Percentage of in the afternoon after class\n",
    "afterClassStudyDF = (rawDataDF[\"When do study the most? \"] == \"In the afternoon after class\").sum()\n",
    "\n",
    "afterClassStudyDF/lenRawDataDF"
   ]
  },
  {
   "cell_type": "code",
   "execution_count": 460,
   "metadata": {},
   "outputs": [
    {
     "data": {
      "text/plain": [
       "0.2"
      ]
     },
     "execution_count": 460,
     "metadata": {},
     "output_type": "execute_result"
    }
   ],
   "source": [
    "# Percentage of in the evening before bed\n",
    "eveningStudyDF = (rawDataDF[\"When do study the most? \"] == \"In the evening before bed\").sum()\n",
    "\n",
    "eveningStudyDF/lenRawDataDF"
   ]
  },
  {
   "cell_type": "code",
   "execution_count": 461,
   "metadata": {},
   "outputs": [
    {
     "data": {
      "text/plain": [
       "0.06666666666666667"
      ]
     },
     "execution_count": 461,
     "metadata": {},
     "output_type": "execute_result"
    }
   ],
   "source": [
    "# Percentage of in the evening in bed \n",
    "bedStudyDF = (rawDataDF[\"When do study the most? \"] == \"In the evening in bed\").sum()\n",
    "\n",
    "bedStudyDF/lenRawDataDF"
   ]
  },
  {
   "cell_type": "markdown",
   "metadata": {},
   "source": [
    "The following below are the percentages for my \"When\" questions:\n",
    "\n",
    "Phone after wake up: 6.7%\n",
    " \n",
    "Phone morning after get ready: 0%\n",
    " \n",
    "Phone during lunch: 0%\n",
    "\n",
    "Phone in class: 0%\n",
    "\n",
    "Phone after class: 40%\n",
    "\n",
    "Phone before bed: 13.3%\n",
    "\n",
    "Phone in bed: 40%\n",
    "\n",
    "Study after wake up: 0%\n",
    "\n",
    "Study morning after get ready: 0%\n",
    "\n",
    "Study during lunch: 6.7%\n",
    "\n",
    "Study in class: 6.7%\n",
    "\n",
    "Study after class: 60%\n",
    "\n",
    "Study before bed: 20%\n",
    "\n",
    "Study in bed: 6.7% "
   ]
  },
  {
   "cell_type": "markdown",
   "metadata": {},
   "source": [
    "Where: Finding percentages for each \"Where\" question:\n",
    "\n",
    "Where do you use your phone the most?"
   ]
  },
  {
   "cell_type": "code",
   "execution_count": 462,
   "metadata": {},
   "outputs": [
    {
     "data": {
      "text/plain": [
       "0.8"
      ]
     },
     "execution_count": 462,
     "metadata": {},
     "output_type": "execute_result"
    }
   ],
   "source": [
    "# In my room\n",
    "roomPhoneDF = (rawDataDF[\"Where do you use your phone the most?\"] == \"In my room\").sum()\n",
    "\n",
    "roomPhoneDF/lenRawDataDF"
   ]
  },
  {
   "cell_type": "code",
   "execution_count": 463,
   "metadata": {},
   "outputs": [
    {
     "data": {
      "text/plain": [
       "0.13333333333333333"
      ]
     },
     "execution_count": 463,
     "metadata": {},
     "output_type": "execute_result"
    }
   ],
   "source": [
    "# At a place where I can also eat\n",
    "eatPhoneDF = (rawDataDF[\"Where do you use your phone the most?\"] == \"At a place where I can also eat\").sum()\n",
    "\n",
    "eatPhoneDF/lenRawDataDF"
   ]
  },
  {
   "cell_type": "code",
   "execution_count": 464,
   "metadata": {},
   "outputs": [
    {
     "data": {
      "text/plain": [
       "0.0"
      ]
     },
     "execution_count": 464,
     "metadata": {},
     "output_type": "execute_result"
    }
   ],
   "source": [
    "# In class\n",
    "classPhoneDF = (rawDataDF[\"Where do you use your phone the most?\"] == \"In class\").sum()\n",
    "\n",
    "classPhoneDF/lenRawDataDF"
   ]
  },
  {
   "cell_type": "code",
   "execution_count": 465,
   "metadata": {},
   "outputs": [
    {
     "data": {
      "text/plain": [
       "0.0"
      ]
     },
     "execution_count": 465,
     "metadata": {},
     "output_type": "execute_result"
    }
   ],
   "source": [
    "# With my friends\n",
    "friendsPhoneDF = (rawDataDF[\"Where do you use your phone the most?\"] == \"With my friends\").sum()\n",
    "\n",
    "friendsPhoneDF/lenRawDataDF"
   ]
  },
  {
   "cell_type": "code",
   "execution_count": 466,
   "metadata": {},
   "outputs": [
    {
     "data": {
      "text/plain": [
       "0.0"
      ]
     },
     "execution_count": 466,
     "metadata": {},
     "output_type": "execute_result"
    }
   ],
   "source": [
    "# In the car\n",
    "carPhoneDF = (rawDataDF[\"Where do you use your phone the most?\"] == \"In the car\").sum()\n",
    "\n",
    "carPhoneDF/lenRawDataDF"
   ]
  },
  {
   "cell_type": "code",
   "execution_count": 467,
   "metadata": {},
   "outputs": [
    {
     "data": {
      "text/plain": [
       "0.06666666666666667"
      ]
     },
     "execution_count": 467,
     "metadata": {},
     "output_type": "execute_result"
    }
   ],
   "source": [
    "# Living Room\n",
    "livingRoomPhoneDF = (rawDataDF[\"Where do you use your phone the most?\"] == \"Living Room\").sum()\n",
    "\n",
    "livingRoomPhoneDF/lenRawDataDF"
   ]
  },
  {
   "cell_type": "markdown",
   "metadata": {},
   "source": [
    "Where do you study the most?"
   ]
  },
  {
   "cell_type": "code",
   "execution_count": 468,
   "metadata": {},
   "outputs": [
    {
     "data": {
      "text/plain": [
       "0.5333333333333333"
      ]
     },
     "execution_count": 468,
     "metadata": {},
     "output_type": "execute_result"
    }
   ],
   "source": [
    "# In my room\n",
    "roomStudyDF = (rawDataDF[\"Where do you study the most?\"] == \"In my room\").sum()\n",
    "\n",
    "roomStudyDF/lenRawDataDF"
   ]
  },
  {
   "cell_type": "code",
   "execution_count": 469,
   "metadata": {},
   "outputs": [
    {
     "data": {
      "text/plain": [
       "0.0"
      ]
     },
     "execution_count": 469,
     "metadata": {},
     "output_type": "execute_result"
    }
   ],
   "source": [
    "# At a place where I can also eat\n",
    "eatStudyDF = (rawDataDF[\"Where do you study the most?\"] == \"At a place where I can also eat\").sum()\n",
    "\n",
    "eatStudyDF/lenRawDataDF"
   ]
  },
  {
   "cell_type": "code",
   "execution_count": 470,
   "metadata": {},
   "outputs": [
    {
     "data": {
      "text/plain": [
       "0.06666666666666667"
      ]
     },
     "execution_count": 470,
     "metadata": {},
     "output_type": "execute_result"
    }
   ],
   "source": [
    "# In class\n",
    "classStudyDF = (rawDataDF[\"Where do you study the most?\"] == \"In class\").sum()\n",
    "\n",
    "classStudyDF/lenRawDataDF"
   ]
  },
  {
   "cell_type": "code",
   "execution_count": 471,
   "metadata": {},
   "outputs": [
    {
     "data": {
      "text/plain": [
       "0.0"
      ]
     },
     "execution_count": 471,
     "metadata": {},
     "output_type": "execute_result"
    }
   ],
   "source": [
    "# With my friends\n",
    "friendsStudyDF = (rawDataDF[\"Where do you study the most?\"] == \"With my friends\").sum()\n",
    "\n",
    "friendsStudyDF/lenRawDataDF"
   ]
  },
  {
   "cell_type": "code",
   "execution_count": 472,
   "metadata": {},
   "outputs": [
    {
     "data": {
      "text/plain": [
       "0.0"
      ]
     },
     "execution_count": 472,
     "metadata": {},
     "output_type": "execute_result"
    }
   ],
   "source": [
    "#In the car\n",
    "carStudyDF = (rawDataDF[\"Where do you study the most?\"] == \"In the car\").sum()\n",
    "\n",
    "carStudyDF/lenRawDataDF"
   ]
  },
  {
   "cell_type": "code",
   "execution_count": 473,
   "metadata": {},
   "outputs": [
    {
     "data": {
      "text/plain": [
       "0.26666666666666666"
      ]
     },
     "execution_count": 473,
     "metadata": {},
     "output_type": "execute_result"
    }
   ],
   "source": [
    "# At the library\n",
    "libraryStudyDF = (rawDataDF[\"Where do you study the most?\"] == \"At the library\").sum()\n",
    "\n",
    "libraryStudyDF/lenRawDataDF"
   ]
  },
  {
   "cell_type": "code",
   "execution_count": 474,
   "metadata": {},
   "outputs": [
    {
     "data": {
      "text/plain": [
       "0.06666666666666667"
      ]
     },
     "execution_count": 474,
     "metadata": {},
     "output_type": "execute_result"
    }
   ],
   "source": [
    "# McAllister Hall\n",
    "hallStudyDF = (rawDataDF[\"Where do you study the most?\"] == \"McAllister Hall\").sum()\n",
    "\n",
    "hallStudyDF/lenRawDataDF"
   ]
  },
  {
   "cell_type": "code",
   "execution_count": 506,
   "metadata": {},
   "outputs": [
    {
     "data": {
      "text/plain": [
       "0.06666666666666667"
      ]
     },
     "execution_count": 506,
     "metadata": {},
     "output_type": "execute_result"
    }
   ],
   "source": [
    "# In Hackberry\n",
    "hackStudyDF = (rawDataDF[\"Where do you study the most?\"] == \"In Hackberry\").sum()\n",
    "\n",
    "hackStudyDF/lenRawDataDF"
   ]
  },
  {
   "cell_type": "markdown",
   "metadata": {},
   "source": [
    "The following below are the percentages for my \"Where\" questions:\n",
    "\n",
    "Phone in room: 80%\n",
    "\n",
    "Phone in dining: 13.3%\n",
    "\n",
    "Phone in class: 0%\n",
    "\n",
    "Phone with friends: 0%\n",
    "\n",
    "Phone in car: 0%\n",
    "\n",
    "Phone in living room: 6.7%\n",
    "\n",
    "Study in room: 53.3%\n",
    "\n",
    "Study in dining: 0%\n",
    "\n",
    "Study in class: 6.7%\n",
    "\n",
    "Study with friends: 0%\n",
    "\n",
    "Study in car: 0%\n",
    "\n",
    "Study in library: 26.7%\n",
    "\n",
    "Study in McAllister Hall: 6.7%\n",
    "\n",
    "Study in Hackberry: 6.7%"
   ]
  },
  {
   "cell_type": "markdown",
   "metadata": {},
   "source": [
    "Why: Finding percentages for each \"Why\" questions:"
   ]
  },
  {
   "cell_type": "markdown",
   "metadata": {},
   "source": [
    "Why do you use your phone for the amount of time you do?\n"
   ]
  },
  {
   "cell_type": "code",
   "execution_count": 476,
   "metadata": {},
   "outputs": [
    {
     "data": {
      "text/plain": [
       "0.5333333333333333"
      ]
     },
     "execution_count": 476,
     "metadata": {},
     "output_type": "execute_result"
    }
   ],
   "source": [
    "# Social media\n",
    "\n",
    "phoneMediaDF = (rawDataDF[\"Why do you use your phone for the amount of time you do?\"] == \"Social media\").sum()\n",
    "\n",
    "phoneMediaDF/lenRawDataDF"
   ]
  },
  {
   "cell_type": "code",
   "execution_count": 477,
   "metadata": {},
   "outputs": [
    {
     "data": {
      "text/plain": [
       "0.0"
      ]
     },
     "execution_count": 477,
     "metadata": {},
     "output_type": "execute_result"
    }
   ],
   "source": [
    "# School related activities\n",
    "\n",
    "phoneSchoolDF = (rawDataDF[\"Why do you use your phone for the amount of time you do?\"] == \"School related activities\").sum()\n",
    "\n",
    "phoneSchoolDF/lenRawDataDF"
   ]
  },
  {
   "cell_type": "code",
   "execution_count": 478,
   "metadata": {},
   "outputs": [
    {
     "data": {
      "text/plain": [
       "0.26666666666666666"
      ]
     },
     "execution_count": 478,
     "metadata": {},
     "output_type": "execute_result"
    }
   ],
   "source": [
    "# Talking to frineds/family\n",
    "\n",
    "phoneTalkDF = (rawDataDF[\"Why do you use your phone for the amount of time you do?\"] == \"Talking to friends/family\").sum()\n",
    "\n",
    "phoneTalkDF/lenRawDataDF"
   ]
  },
  {
   "cell_type": "code",
   "execution_count": 479,
   "metadata": {},
   "outputs": [
    {
     "data": {
      "text/plain": [
       "0.06666666666666667"
      ]
     },
     "execution_count": 479,
     "metadata": {},
     "output_type": "execute_result"
    }
   ],
   "source": [
    "# To distract myself\n",
    "\n",
    "phoneDistractDF = (rawDataDF[\"Why do you use your phone for the amount of time you do?\"] == \"To distract myself\").sum()\n",
    "\n",
    "phoneDistractDF/lenRawDataDF"
   ]
  },
  {
   "cell_type": "code",
   "execution_count": 480,
   "metadata": {},
   "outputs": [
    {
     "data": {
      "text/plain": [
       "0.06666666666666667"
      ]
     },
     "execution_count": 480,
     "metadata": {},
     "output_type": "execute_result"
    }
   ],
   "source": [
    "# Games\n",
    "\n",
    "phoneGameDF = (rawDataDF[\"Why do you use your phone for the amount of time you do?\"] == \"Games\").sum()\n",
    "\n",
    "phoneGameDF/lenRawDataDF"
   ]
  },
  {
   "cell_type": "code",
   "execution_count": 481,
   "metadata": {},
   "outputs": [
    {
     "data": {
      "text/plain": [
       "0.06666666666666667"
      ]
     },
     "execution_count": 481,
     "metadata": {},
     "output_type": "execute_result"
    }
   ],
   "source": [
    "# I don't want to be on my phone very much\n",
    "\n",
    "phoneNoneDF = (rawDataDF[\"Why do you use your phone for the amount of time you do?\"] == \"I don't want to be on my phone very much\").sum()\n",
    "\n",
    "phoneNoneDF/lenRawDataDF"
   ]
  },
  {
   "cell_type": "markdown",
   "metadata": {},
   "source": [
    "Why do you study for the amount of time you do?\n"
   ]
  },
  {
   "cell_type": "code",
   "execution_count": 482,
   "metadata": {},
   "outputs": [
    {
     "data": {
      "text/plain": [
       "0.06666666666666667"
      ]
     },
     "execution_count": 482,
     "metadata": {},
     "output_type": "execute_result"
    }
   ],
   "source": [
    "# I feel compelled to \n",
    "\n",
    "studyCompelledDF = (rawDataDF[\"Why do you study for the amount of time you do?\"] == \"I feel compelled to\").sum()\n",
    "\n",
    "studyCompelledDF/lenRawDataDF"
   ]
  },
  {
   "cell_type": "code",
   "execution_count": 483,
   "metadata": {},
   "outputs": [
    {
     "data": {
      "text/plain": [
       "0.6666666666666666"
      ]
     },
     "execution_count": 483,
     "metadata": {},
     "output_type": "execute_result"
    }
   ],
   "source": [
    "# To succeed in my classes\n",
    "\n",
    "studySucceedDF = (rawDataDF[\"Why do you study for the amount of time you do?\"] == \"To succeed in my classes\").sum()\n",
    "\n",
    "studySucceedDF/lenRawDataDF"
   ]
  },
  {
   "cell_type": "code",
   "execution_count": 484,
   "metadata": {},
   "outputs": [
    {
     "data": {
      "text/plain": [
       "0.06666666666666667"
      ]
     },
     "execution_count": 484,
     "metadata": {},
     "output_type": "execute_result"
    }
   ],
   "source": [
    "# Nothing else to do\n",
    "\n",
    "studyNothingDF = (rawDataDF[\"Why do you study for the amount of time you do?\"] == \"Nothing else to do\").sum()\n",
    "\n",
    "studyNothingDF/lenRawDataDF"
   ]
  },
  {
   "cell_type": "code",
   "execution_count": 485,
   "metadata": {},
   "outputs": [
    {
     "data": {
      "text/plain": [
       "0.06666666666666667"
      ]
     },
     "execution_count": 485,
     "metadata": {},
     "output_type": "execute_result"
    }
   ],
   "source": [
    "# It is required\n",
    "\n",
    "studyRequiredDF = (rawDataDF[\"Why do you study for the amount of time you do?\"] == \"It is required\").sum()\n",
    "\n",
    "studyRequiredDF/lenRawDataDF"
   ]
  },
  {
   "cell_type": "code",
   "execution_count": 486,
   "metadata": {},
   "outputs": [
    {
     "data": {
      "text/plain": [
       "0.13333333333333333"
      ]
     },
     "execution_count": 486,
     "metadata": {},
     "output_type": "execute_result"
    }
   ],
   "source": [
    "# I do not enjoy studying\n",
    "\n",
    "studyNoEnjoyDF = (rawDataDF[\"Why do you study for the amount of time you do?\"] == \"I do not enjoy studying\").sum()\n",
    "\n",
    "studyNoEnjoyDF/lenRawDataDF"
   ]
  },
  {
   "cell_type": "markdown",
   "metadata": {},
   "source": [
    "Why do you use your phone the most during the time you do?\n"
   ]
  },
  {
   "cell_type": "code",
   "execution_count": 487,
   "metadata": {},
   "outputs": [
    {
     "data": {
      "text/plain": [
       "0.13333333333333333"
      ]
     },
     "execution_count": 487,
     "metadata": {},
     "output_type": "execute_result"
    }
   ],
   "source": [
    "# It is most convient to check everything in the morning\n",
    "\n",
    "phoneConvientMorningDF = (rawDataDF[\"Why do you use your phone the most during the time you do?\"] == \"It is most convient to check everything in the morning\").sum()\n",
    "\n",
    "phoneConvientMorningDF/lenRawDataDF"
   ]
  },
  {
   "cell_type": "code",
   "execution_count": 488,
   "metadata": {},
   "outputs": [
    {
     "data": {
      "text/plain": [
       "0.13333333333333333"
      ]
     },
     "execution_count": 488,
     "metadata": {},
     "output_type": "execute_result"
    }
   ],
   "source": [
    "# I enjoy using my phone while I eat\n",
    "\n",
    "phoneEatDF = (rawDataDF[\"Why do you use your phone the most during the time you do?\"] == \"I enjoy using my phone while I eat\").sum()\n",
    "\n",
    "phoneEatDF/lenRawDataDF"
   ]
  },
  {
   "cell_type": "code",
   "execution_count": 489,
   "metadata": {},
   "outputs": [
    {
     "data": {
      "text/plain": [
       "0.06666666666666667"
      ]
     },
     "execution_count": 489,
     "metadata": {},
     "output_type": "execute_result"
    }
   ],
   "source": [
    "# It is a good distraction in class\n",
    "\n",
    "phoneDistractionDF = (rawDataDF[\"Why do you use your phone the most during the time you do?\"] == \"It is a good distraction in class\").sum()\n",
    "\n",
    "phoneDistractionDF/lenRawDataDF"
   ]
  },
  {
   "cell_type": "code",
   "execution_count": 490,
   "metadata": {},
   "outputs": [
    {
     "data": {
      "text/plain": [
       "0.6"
      ]
     },
     "execution_count": 490,
     "metadata": {},
     "output_type": "execute_result"
    }
   ],
   "source": [
    "# It is most convient to check everything at night \n",
    "\n",
    "phoneConvientEveningDF = (rawDataDF[\"Why do you use your phone the most during the time you do?\"] == \"It is most convient to check everyting at night\").sum()\n",
    "\n",
    "phoneConvientEveningDF/lenRawDataDF"
   ]
  },
  {
   "cell_type": "code",
   "execution_count": 491,
   "metadata": {},
   "outputs": [
    {
     "data": {
      "text/plain": [
       "0.06666666666666667"
      ]
     },
     "execution_count": 491,
     "metadata": {},
     "output_type": "execute_result"
    }
   ],
   "source": [
    "# phone time before bed to relax after a day of classes and work \n",
    "\n",
    "phoneBeforeBedDF = (rawDataDF[\"Why do you use your phone the most during the time you do?\"] == \"phone time before bed to relax after a day of classes and work\").sum()\n",
    "\n",
    "phoneBeforeBedDF/lenRawDataDF"
   ]
  },
  {
   "cell_type": "markdown",
   "metadata": {},
   "source": [
    "Why do you study the most during the time you do? \n"
   ]
  },
  {
   "cell_type": "code",
   "execution_count": 492,
   "metadata": {},
   "outputs": [
    {
     "data": {
      "text/plain": [
       "0.3333333333333333"
      ]
     },
     "execution_count": 492,
     "metadata": {},
     "output_type": "execute_result"
    }
   ],
   "source": [
    "# It is the only time I can\n",
    "\n",
    "studyOnlyDF = (rawDataDF[\"Why do you study the most during the time you do? \"] == \"It is the only time I can\").sum()\n",
    "\n",
    "studyOnlyDF/lenRawDataDF"
   ]
  },
  {
   "cell_type": "code",
   "execution_count": 507,
   "metadata": {},
   "outputs": [
    {
     "data": {
      "text/plain": [
       "0.5333333333333333"
      ]
     },
     "execution_count": 507,
     "metadata": {},
     "output_type": "execute_result"
    }
   ],
   "source": [
    "# I feel the most engaged during this time \n",
    "\n",
    "studyEngagedDF = (rawDataDF[\"Why do you study the most during the time you do? \"] == \"I feel the most engaged during this time\").sum()\n",
    "\n",
    "studyEngagedDF/lenRawDataDF"
   ]
  },
  {
   "cell_type": "code",
   "execution_count": 494,
   "metadata": {},
   "outputs": [
    {
     "data": {
      "text/plain": [
       "0.06666666666666667"
      ]
     },
     "execution_count": 494,
     "metadata": {},
     "output_type": "execute_result"
    }
   ],
   "source": [
    "# I have nothing else to do during this time \n",
    "\n",
    "studyNothingDF = (rawDataDF[\"Why do you study the most during the time you do? \"] == \"I have nothing else to do during this time\").sum()\n",
    "\n",
    "studyNothingDF/lenRawDataDF"
   ]
  },
  {
   "cell_type": "code",
   "execution_count": 495,
   "metadata": {},
   "outputs": [
    {
     "data": {
      "text/plain": [
       "0.06666666666666667"
      ]
     },
     "execution_count": 495,
     "metadata": {},
     "output_type": "execute_result"
    }
   ],
   "source": [
    "# When my friends study \n",
    "studyEngagedDF = (rawDataDF[\"Why do you study the most during the time you do? \"] == \"When my friends study\").sum()\n",
    "\n",
    "studyEngagedDF/lenRawDataDF"
   ]
  },
  {
   "cell_type": "markdown",
   "metadata": {},
   "source": [
    "Why do you like to use your phone the most in your favorite area?\n"
   ]
  },
  {
   "cell_type": "code",
   "execution_count": 510,
   "metadata": {},
   "outputs": [
    {
     "data": {
      "text/plain": [
       "0.2"
      ]
     },
     "execution_count": 510,
     "metadata": {},
     "output_type": "execute_result"
    }
   ],
   "source": [
    "# I get more things accomplished in this area\n",
    "phoneAccomplishdDF = (rawDataDF[\"Why do you like to use your phone the most in your favorite area?\"] == \"I get more things accomplished in this area\").sum()\n",
    "\n",
    "phoneAccomplishdDF/lenRawDataDF"
   ]
  },
  {
   "cell_type": "code",
   "execution_count": 497,
   "metadata": {},
   "outputs": [
    {
     "data": {
      "text/plain": [
       "0.4"
      ]
     },
     "execution_count": 497,
     "metadata": {},
     "output_type": "execute_result"
    }
   ],
   "source": [
    "# There is nothing else to do \n",
    "\n",
    "phoneNothingDF = (rawDataDF[\"Why do you like to use your phone the most in your favorite area?\"] == \"There is nothing else to do\").sum()\n",
    "\n",
    "phoneNothingDF/lenRawDataDF"
   ]
  },
  {
   "cell_type": "code",
   "execution_count": 498,
   "metadata": {},
   "outputs": [
    {
     "data": {
      "text/plain": [
       "0.0"
      ]
     },
     "execution_count": 498,
     "metadata": {},
     "output_type": "execute_result"
    }
   ],
   "source": [
    "# There are people around me doing similar things\n",
    "\n",
    "phonePeopleDF = (rawDataDF[\"Why do you like to use your phone the most in your favorite area?\"] == \"There are people around me doing similar things\").sum()\n",
    "\n",
    "phonePeopleDF/lenRawDataDF"
   ]
  },
  {
   "cell_type": "code",
   "execution_count": 499,
   "metadata": {},
   "outputs": [
    {
     "data": {
      "text/plain": [
       "0.3333333333333333"
      ]
     },
     "execution_count": 499,
     "metadata": {},
     "output_type": "execute_result"
    }
   ],
   "source": [
    "# I do not want to do anything else while I am here\n",
    "\n",
    "phoneAnythingDF = (rawDataDF[\"Why do you like to use your phone the most in your favorite area?\"] == \"I do not want to do anything else while I am here\").sum()\n",
    "\n",
    "phoneAnythingDF/lenRawDataDF"
   ]
  },
  {
   "cell_type": "code",
   "execution_count": 500,
   "metadata": {},
   "outputs": [
    {
     "data": {
      "text/plain": [
       "0.06666666666666667"
      ]
     },
     "execution_count": 500,
     "metadata": {},
     "output_type": "execute_result"
    }
   ],
   "source": [
    "# comfortable in bed \n",
    "\n",
    "phoneComfyDF = (rawDataDF[\"Why do you like to use your phone the most in your favorite area?\"] == \"comfortable in bed\").sum()\n",
    "\n",
    "phoneComfyDF/lenRawDataDF"
   ]
  },
  {
   "cell_type": "markdown",
   "metadata": {},
   "source": [
    "Why do you like to study the most in your favorite area?\n"
   ]
  },
  {
   "cell_type": "code",
   "execution_count": 501,
   "metadata": {},
   "outputs": [
    {
     "data": {
      "text/plain": [
       "0.4"
      ]
     },
     "execution_count": 501,
     "metadata": {},
     "output_type": "execute_result"
    }
   ],
   "source": [
    "# I feel less distracted while I am here\n",
    "\n",
    "studyDistractedDF = (rawDataDF[\"Why do you like to study the most in your favorite area?\"] == \"I feel less distracted while I am here\").sum()\n",
    "\n",
    "studyDistractedDF/lenRawDataDF"
   ]
  },
  {
   "cell_type": "code",
   "execution_count": 502,
   "metadata": {},
   "outputs": [
    {
     "data": {
      "text/plain": [
       "0.06666666666666667"
      ]
     },
     "execution_count": 502,
     "metadata": {},
     "output_type": "execute_result"
    }
   ],
   "source": [
    "# It is the only place I can study\n",
    "\n",
    "studyOnlyPlaceDF = (rawDataDF[\"Why do you like to study the most in your favorite area?\"] == \"It is the only place I can study\").sum()\n",
    "\n",
    "studyOnlyPlaceDF/lenRawDataDF"
   ]
  },
  {
   "cell_type": "code",
   "execution_count": 503,
   "metadata": {},
   "outputs": [
    {
     "data": {
      "text/plain": [
       "0.3333333333333333"
      ]
     },
     "execution_count": 503,
     "metadata": {},
     "output_type": "execute_result"
    }
   ],
   "source": [
    "# There are people around me doing similar things\n",
    "\n",
    "studySimilarDF = (rawDataDF[\"Why do you like to study the most in your favorite area?\"] == \"There are people around me doing similar things\").sum()\n",
    "\n",
    "studySimilarDF/lenRawDataDF"
   ]
  },
  {
   "cell_type": "code",
   "execution_count": 504,
   "metadata": {},
   "outputs": [
    {
     "data": {
      "text/plain": [
       "0.0"
      ]
     },
     "execution_count": 504,
     "metadata": {},
     "output_type": "execute_result"
    }
   ],
   "source": [
    "# I do not want to do anything else while I am here\n",
    "\n",
    "studyAnythingDF = (rawDataDF[\"Why do you like to study the most in your favorite area?\"] == \"I do not want to do anything else while I am here\").sum()\n",
    "\n",
    "studyAnythingDF/lenRawDataDF"
   ]
  },
  {
   "cell_type": "code",
   "execution_count": 505,
   "metadata": {},
   "outputs": [
    {
     "data": {
      "text/plain": [
       "0.2"
      ]
     },
     "execution_count": 505,
     "metadata": {},
     "output_type": "execute_result"
    }
   ],
   "source": [
    "# I get a lot more accomplished while I study here \n",
    "\n",
    "studyAccomplishedDF = (rawDataDF[\"Why do you like to study the most in your favorite area?\"] == \"I get a lot more accomplished while I study here\").sum()\n",
    "\n",
    "studyAccomplishedDF/lenRawDataDF"
   ]
  },
  {
   "cell_type": "markdown",
   "metadata": {},
   "source": [
    "The following below are the percentages for my \"Why\" questions:\n",
    "\n",
    "Why do you use your phone the amount of time you do? \n",
    "    Social Media: 53.3%\n",
    "\n",
    "    School Related Activities: 26.7%\n",
    "\n",
    "    Talking to friends/family: 0%\n",
    "\n",
    "    To distract myself: 6.7%\n",
    "\n",
    "    Games: 6.7%\n",
    "\n",
    "    I don't want to be on my phone very much: 6.7%\n",
    "\n",
    "Why do you study for the amount of time you do? \n",
    "    I feel compelled to: 6.7%\n",
    "\n",
    "    To succeed in my classes: 66.7%\n",
    "\n",
    "    Nothing else to do: 6.7%\n",
    "\n",
    "    It is required: 6.7%\n",
    "\n",
    "    I do not enjoy studying: 13.3%\n",
    "\n",
    "Why do you use your phone the most during the time you do?\n",
    "    It is most convient to check everything in the morning: 13.3%\n",
    "\n",
    "    I enjoy using my phone while I eat: 13.3%\n",
    "\n",
    "    It is a good distraction in class: 6.7%\n",
    "\n",
    "    It is most convient to check everything at night: 60%\n",
    "\n",
    "    Phone time before bed to relax after a day of classes and work: 6.7%\n",
    "\n",
    "Why do you study the most during the time you do?\n",
    "    It is the only time I can: 0%\n",
    "\n",
    "    I feel the most engaged during this time: 53.3%\n",
    "\n",
    "    I have nothing else to do during this time: 6.7%\n",
    "\n",
    "    When my friends study: 33.3%\n",
    "\n",
    "Why do you like to use your phone the most in your favorite area?\n",
    "    I get more things accomplished in this area: 20%\n",
    "\n",
    "    There is nothing else to do: 40%\n",
    "\n",
    "    There are poeple around me doing similar things: 0%\n",
    "\n",
    "    I do not want to do anything else while I am here: 33.3%\n",
    "\n",
    "    Comfortable in bed: 6.7%\n",
    "\n",
    "Why do you like to study the most in your favorite area? \n",
    "    I feel less distracted while I am here: 40%\n",
    "\n",
    "    It is the only place I can study: 6.7%\n",
    "\n",
    "    There are people around me doing similar things: 33.3%\n",
    "\n",
    "    I do not want to do anything else while I am here: 0%\n",
    "\n",
    "    I get a lot more accomplished while I study here: 20%\n",
    "    \n"
   ]
  },
  {
   "cell_type": "markdown",
   "metadata": {},
   "source": [
    "How:\n",
    "    Briefly talk about the methods you used to give the survey and how much time you were given for this project. Then talk about what tools you used to analyze the data.\n",
    "        You should also mention possible weaknesses of your study here and how this study could be improved"
   ]
  },
  {
   "cell_type": "markdown",
   "metadata": {},
   "source": [
    "Discussion/Conclusion: Are there any patterns or trends that you saw in the data? It is ok if you didn't. If you did not, mention that."
   ]
  },
  {
   "cell_type": "markdown",
   "metadata": {},
   "source": [
    "I sent out my surveys in two different ways to conduct it. I put it into the hackberry discord, and then I sent it out to a couple different individuals. I had let the survey sit for about a week before I grabbed the responses to get the maximum amount of entries (which ended up being 15). I used a function to grab the percentages of each option within each question, and used the same function to get each individual percentage for options. I think a possible weakness of my survey was that it was far too long. I tried to see if I could find a correlation between high phone usage and low studying time, however, I did not end up seeing any apparent correlation. I believe this was because of the fact that I asked way too many questions so people just started clicking random options. "
   ]
  },
  {
   "cell_type": "markdown",
   "metadata": {},
   "source": []
  }
 ],
 "metadata": {
  "kernelspec": {
   "display_name": "base",
   "language": "python",
   "name": "python3"
  },
  "language_info": {
   "codemirror_mode": {
    "name": "ipython",
    "version": 3
   },
   "file_extension": ".py",
   "mimetype": "text/x-python",
   "name": "python",
   "nbconvert_exporter": "python",
   "pygments_lexer": "ipython3",
   "version": "3.11.5"
  }
 },
 "nbformat": 4,
 "nbformat_minor": 2
}
